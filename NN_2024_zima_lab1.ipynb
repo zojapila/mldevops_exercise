{
 "nbformat": 4,
 "nbformat_minor": 0,
 "metadata": {
  "colab": {
   "provenance": [],
   "gpuType": "T4",
   "authorship_tag": "ABX9TyPWwnjpMOcPBqJ0UVqT5PJm"
  },
  "kernelspec": {
   "name": "python3",
   "display_name": "Python 3"
  },
  "language_info": {
   "name": "python"
  },
  "accelerator": "GPU"
 },
 "cells": [
  {
   "cell_type": "code",
   "execution_count": null,
   "metadata": {
    "id": "26OSFY0c7owl"
   },
   "outputs": [],
   "source": [
    "from torch import nn\n",
    "from torch.utils.data import DataLoader\n",
    "from torchvision import datasets\n",
    "from torchvision.transforms import ToTensor\n",
    "import torchvision\n",
    "import torch\n",
    "import torch.optim as optim\n",
    "from tqdm import tqdm\n",
    "\n",
    "device = \"cuda\" if torch.cuda.is_available() else \"cpu\""
   ]
  },
  {
   "cell_type": "code",
   "source": [
    "train_set = torchvision.datasets.FashionMNIST(\n",
    "    \"./data\", download=True, transform=transforms.Compose([transforms.ToTensor()])\n",
    ")\n",
    "test_set = torchvision.datasets.FashionMNIST(\n",
    "    \"./data\", download=True, train=False, transform=transforms.Compose([transforms.ToTensor()])\n",
    ")"
   ],
   "metadata": {
    "id": "Hm08EAr3EaSs"
   },
   "execution_count": null,
   "outputs": []
  },
  {
   "cell_type": "code",
   "source": [
    "train_loader = torch.utils.data.DataLoader(train_set, batch_size=100)\n",
    "test_loader = torch.utils.data.DataLoader(test_set, batch_size=100)"
   ],
   "metadata": {
    "id": "OXdcQd28FpMP"
   },
   "execution_count": null,
   "outputs": []
  },
  {
   "cell_type": "code",
   "source": [
    "class FashionCNN:\n",
    "\n",
    "    def __init__(self):\n",
    "        self.model = nn.Sequential(\n",
    "            nn.Conv2d(1, 32, kernel_size=3, padding=1),\n",
    "            nn.ReLU(),\n",
    "            nn.Conv2d(32, 64, kernel_size=3, stride=1, padding=1),\n",
    "            nn.ReLU(),\n",
    "            nn.MaxPool2d(2, 2),\n",
    "            nn.Flatten(),\n",
    "            nn.Linear(12544, 512),\n",
    "            nn.ReLU(),\n",
    "            nn.Linear(512, 64),\n",
    "        ).to(device)\n",
    "        self.loss_tab = []\n",
    "        self.epoch_tab = []\n",
    "\n",
    "    def forward(self, x):\n",
    "        return self.model(x)\n",
    "\n",
    "    def validate(self, test_dataloader, device):\n",
    "        self.model.eval()  # VALIDACJA\n",
    "        total = 0\n",
    "        correct = 0\n",
    "\n",
    "        with torch.no_grad():  # bez gradientow\n",
    "            for inputs, labels in test_dataloader:\n",
    "                inputs = inputs.to(device)\n",
    "                labels = labels.to(device)\n",
    "                outputs = self.model(inputs)\n",
    "                _, predicted = torch.max(outputs.data, 1)  # klasa z max prawd\n",
    "\n",
    "                total += labels.size(0)\n",
    "                correct += (predicted == labels).sum().item()\n",
    "\n",
    "        accuracy = 100 * correct / total\n",
    "        print(f\"accuracy: {accuracy:.2f}%\")\n",
    "\n",
    "    def train_model(self, train_loader, test_loader, num_epochs=10, learning_rate=0.001):\n",
    "\n",
    "        # optymalizator i funkcja straty\n",
    "        optimizer = optim.Adam(self.model.parameters(), lr=learning_rate)\n",
    "        criterion = nn.CrossEntropyLoss()\n",
    "\n",
    "        for epoch in range(num_epochs):\n",
    "            self.model.train()\n",
    "            losss = 0.0\n",
    "\n",
    "            for inputs, labels in tqdm(train_loader):\n",
    "                inputs, labels = inputs.to(device), labels.to(device)\n",
    "\n",
    "                optimizer.zero_grad()\n",
    "\n",
    "                outputs = self.model(inputs)\n",
    "                loss = criterion(outputs, labels)\n",
    "\n",
    "                # propagacja wsteczna\n",
    "                loss.backward()\n",
    "                optimizer.step()\n",
    "\n",
    "                losss += loss.item()\n",
    "\n",
    "            self.validate(test_loader, device)\n",
    "            self.loss_tab.append(losss / len(train_loader))\n",
    "            self.epoch_tab.append(epoch)\n",
    "            print(f\"Epoch [{epoch}/{num_epochs-1}], Loss: {losss / len(train_loader):.4f}\")"
   ],
   "metadata": {
    "id": "w53F_UGVGfOy"
   },
   "execution_count": null,
   "outputs": []
  },
  {
   "cell_type": "code",
   "source": [
    "print(FashionCNN().model)"
   ],
   "metadata": {
    "colab": {
     "base_uri": "https://localhost:8080/"
    },
    "id": "1ENU00SiGjz8",
    "executionInfo": {
     "status": "ok",
     "timestamp": 1728837332937,
     "user_tz": -120,
     "elapsed": 296,
     "user": {
      "displayName": "Zofia Jankowska",
      "userId": "04887293830375276739"
     }
    },
    "outputId": "95d9b963-6d01-478f-a366-3bad051c3bb6"
   },
   "execution_count": null,
   "outputs": [
    {
     "output_type": "stream",
     "name": "stdout",
     "text": [
      "Sequential(\n",
      "  (0): Conv2d(1, 32, kernel_size=(3, 3), stride=(1, 1), padding=(1, 1))\n",
      "  (1): ReLU()\n",
      "  (2): Conv2d(32, 64, kernel_size=(3, 3), stride=(1, 1), padding=(1, 1))\n",
      "  (3): ReLU()\n",
      "  (4): MaxPool2d(kernel_size=2, stride=2, padding=0, dilation=1, ceil_mode=False)\n",
      "  (5): Flatten(start_dim=1, end_dim=-1)\n",
      "  (6): Linear(in_features=12544, out_features=512, bias=True)\n",
      "  (7): ReLU()\n",
      "  (8): Linear(in_features=512, out_features=64, bias=True)\n",
      ")\n"
     ]
    }
   ]
  },
  {
   "cell_type": "code",
   "source": [
    "model = FashionCNN()\n",
    "model.train_model(train_loader, test_loader)"
   ],
   "metadata": {
    "colab": {
     "base_uri": "https://localhost:8080/"
    },
    "id": "xtMmhR9PuOgD",
    "executionInfo": {
     "status": "ok",
     "timestamp": 1728837466434,
     "user_tz": -120,
     "elapsed": 132595,
     "user": {
      "displayName": "Zofia Jankowska",
      "userId": "04887293830375276739"
     }
    },
    "outputId": "67f693ce-adf1-4b0c-b5bf-7bc485c83408"
   },
   "execution_count": null,
   "outputs": [
    {
     "output_type": "stream",
     "name": "stderr",
     "text": [
      "100%|██████████| 600/600 [00:13<00:00, 45.43it/s]\n"
     ]
    },
    {
     "output_type": "stream",
     "name": "stdout",
     "text": [
      "accuracy: 87.74%\n",
      "Epoch [0/9], Loss: 0.4366\n"
     ]
    },
    {
     "output_type": "stream",
     "name": "stderr",
     "text": [
      "100%|██████████| 600/600 [00:13<00:00, 43.02it/s]\n"
     ]
    },
    {
     "output_type": "stream",
     "name": "stdout",
     "text": [
      "accuracy: 89.87%\n",
      "Epoch [1/9], Loss: 0.2509\n"
     ]
    },
    {
     "output_type": "stream",
     "name": "stderr",
     "text": [
      "100%|██████████| 600/600 [00:11<00:00, 52.07it/s]\n"
     ]
    },
    {
     "output_type": "stream",
     "name": "stdout",
     "text": [
      "accuracy: 90.59%\n",
      "Epoch [2/9], Loss: 0.1930\n"
     ]
    },
    {
     "output_type": "stream",
     "name": "stderr",
     "text": [
      "100%|██████████| 600/600 [00:11<00:00, 50.64it/s]\n"
     ]
    },
    {
     "output_type": "stream",
     "name": "stdout",
     "text": [
      "accuracy: 90.91%\n",
      "Epoch [3/9], Loss: 0.1503\n"
     ]
    },
    {
     "output_type": "stream",
     "name": "stderr",
     "text": [
      "100%|██████████| 600/600 [00:11<00:00, 51.91it/s]\n"
     ]
    },
    {
     "output_type": "stream",
     "name": "stdout",
     "text": [
      "accuracy: 90.77%\n",
      "Epoch [4/9], Loss: 0.1124\n"
     ]
    },
    {
     "output_type": "stream",
     "name": "stderr",
     "text": [
      "100%|██████████| 600/600 [00:11<00:00, 52.38it/s]\n"
     ]
    },
    {
     "output_type": "stream",
     "name": "stdout",
     "text": [
      "accuracy: 90.18%\n",
      "Epoch [5/9], Loss: 0.0844\n"
     ]
    },
    {
     "output_type": "stream",
     "name": "stderr",
     "text": [
      "100%|██████████| 600/600 [00:11<00:00, 51.98it/s]\n"
     ]
    },
    {
     "output_type": "stream",
     "name": "stdout",
     "text": [
      "accuracy: 91.76%\n",
      "Epoch [6/9], Loss: 0.0672\n"
     ]
    },
    {
     "output_type": "stream",
     "name": "stderr",
     "text": [
      "100%|██████████| 600/600 [00:11<00:00, 52.32it/s]\n"
     ]
    },
    {
     "output_type": "stream",
     "name": "stdout",
     "text": [
      "accuracy: 91.80%\n",
      "Epoch [7/9], Loss: 0.0533\n"
     ]
    },
    {
     "output_type": "stream",
     "name": "stderr",
     "text": [
      "100%|██████████| 600/600 [00:11<00:00, 50.41it/s]\n"
     ]
    },
    {
     "output_type": "stream",
     "name": "stdout",
     "text": [
      "accuracy: 91.57%\n",
      "Epoch [8/9], Loss: 0.0422\n"
     ]
    },
    {
     "output_type": "stream",
     "name": "stderr",
     "text": [
      "100%|██████████| 600/600 [00:11<00:00, 52.64it/s]\n"
     ]
    },
    {
     "output_type": "stream",
     "name": "stdout",
     "text": [
      "accuracy: 92.19%\n",
      "Epoch [9/9], Loss: 0.0326\n"
     ]
    }
   ]
  },
  {
   "cell_type": "code",
   "source": [
    "import matplotlib.pyplot as plt\n",
    "\n",
    "plt.plot(model.epoch_tab, model.loss_tab)\n",
    "plt.xlabel(\"No. of Iteration\")\n",
    "plt.ylabel(\"Loss\")\n",
    "plt.title(\"Iterations vs Loss\")\n",
    "plt.show()"
   ],
   "metadata": {
    "colab": {
     "base_uri": "https://localhost:8080/",
     "height": 472
    },
    "id": "jQaMwYW4HJB5",
    "executionInfo": {
     "status": "ok",
     "timestamp": 1728837768184,
     "user_tz": -120,
     "elapsed": 1682,
     "user": {
      "displayName": "Zofia Jankowska",
      "userId": "04887293830375276739"
     }
    },
    "outputId": "8f6ab9e2-a821-4c0b-da52-e611d347e2e3"
   },
   "execution_count": null,
   "outputs": [
    {
     "output_type": "display_data",
     "data": {
      "text/plain": [
       "<Figure size 640x480 with 1 Axes>"
      ],
      "image/png": "[encoded data removed]"
     },
     "metadata": {}
    }
   ]
  },
  {
   "source": [
    "class Autoencoder:\n",
    "    def __init__(self):\n",
    "        self.encoder = nn.Sequential(\n",
    "            nn.Conv2d(1, 32, kernel_size=3, padding=1),\n",
    "            nn.ReLU(),\n",
    "            nn.Conv2d(32, 64, kernel_size=3, stride=1, padding=1),\n",
    "            nn.ReLU(),\n",
    "            nn.MaxPool2d(2, 2),\n",
    "            nn.Flatten(),\n",
    "            nn.Linear(12544, 512),\n",
    "            nn.ReLU(),\n",
    "            nn.Linear(512, 12),\n",
    "        ).to(device)\n",
    "\n",
    "        self.decoder = nn.Sequential(\n",
    "            nn.Linear(12, 512),\n",
    "            nn.ReLU(),\n",
    "            nn.Linear(512, 12544),\n",
    "            nn.ReLU(),\n",
    "            nn.Unflatten(1, (64, 14, 14)),\n",
    "            nn.ConvTranspose2d(64, 32, kernel_size=3, stride=1, padding=1),\n",
    "            nn.ReLU(),\n",
    "            nn.ConvTranspose2d(32, 1, kernel_size=3, stride=2, padding=1, output_padding=1),\n",
    "            nn.Sigmoid(),\n",
    "        ).to(device)\n",
    "        self.loss_tab = []\n",
    "        self.epoch_tab = []\n",
    "\n",
    "    def forward(self, x):\n",
    "        return self.decoder(self.encoder(x))\n",
    "\n",
    "    def validate_model(self, test_dataloader, device):\n",
    "        self.encoder.eval()\n",
    "        self.decoder.eval()\n",
    "\n",
    "        running_loss = 0\n",
    "\n",
    "        with torch.no_grad():\n",
    "            for inputs, labels in test_dataloader:\n",
    "                inputs, labels = inputs.to(device), labels.to(device)\n",
    "                outputs = self.forward(inputs)\n",
    "                running_loss += nn.MSELoss()(outputs, inputs).item()\n",
    "\n",
    "        meanloss = running_loss / len(test_dataloader)\n",
    "        print(f\"Validation Loss: {meanloss:.2f}\")\n",
    "\n",
    "    def train_model(self, train_loader, test_loader, num_epochs=10, learning_rate=0.001):\n",
    "        optimizer = optim.Adam(list(self.encoder.parameters()) + list(self.decoder.parameters()), lr=learning_rate)\n",
    "        criterion = nn.MSELoss()\n",
    "\n",
    "        for epoch in range(num_epochs):\n",
    "            self.encoder.train()\n",
    "            self.decoder.train()\n",
    "            losss = 0.0\n",
    "\n",
    "            for inputs, labels in tqdm(train_loader):\n",
    "                inputs, labels = inputs.to(device), labels.to(device)\n",
    "\n",
    "                optimizer.zero_grad()\n",
    "\n",
    "                outputs = self.forward(inputs)\n",
    "                loss = nn.MSELoss()(outputs, inputs)\n",
    "\n",
    "                loss.backward()\n",
    "                optimizer.step()\n",
    "\n",
    "                losss += loss.item()\n",
    "\n",
    "            self.validate_model(test_loader, device)\n",
    "            self.loss_tab.append(losss / len(train_loader))\n",
    "            self.epoch_tab.append(epoch)\n",
    "\n",
    "            print(f\"Epoch [{epoch}/{num_epochs-1}], Loss: {losss / len(train_loader):.4f}\")"
   ],
   "cell_type": "code",
   "metadata": {
    "id": "SvOb-mG2JjRX"
   },
   "execution_count": null,
   "outputs": []
  },
  {
   "cell_type": "code",
   "source": [
    "model = Autoencoder()\n",
    "model.train_model(train_loader, test_loader)"
   ],
   "metadata": {
    "colab": {
     "base_uri": "https://localhost:8080/"
    },
    "id": "U570SE0rzOYH",
    "executionInfo": {
     "status": "ok",
     "timestamp": 1728838602711,
     "user_tz": -120,
     "elapsed": 157624,
     "user": {
      "displayName": "Zofia Jankowska",
      "userId": "04887293830375276739"
     }
    },
    "outputId": "8690b6fa-f226-4ab4-f6a1-a6775a872aca"
   },
   "execution_count": null,
   "outputs": [
    {
     "output_type": "stream",
     "name": "stderr",
     "text": [
      "100%|██████████| 600/600 [00:14<00:00, 42.38it/s]\n"
     ]
    },
    {
     "output_type": "stream",
     "name": "stdout",
     "text": [
      "Validation Loss: 0.01\n",
      "Epoch [0/9], Loss: 0.0222\n"
     ]
    },
    {
     "output_type": "stream",
     "name": "stderr",
     "text": [
      "100%|██████████| 600/600 [00:16<00:00, 36.71it/s]\n"
     ]
    },
    {
     "output_type": "stream",
     "name": "stdout",
     "text": [
      "Validation Loss: 0.01\n",
      "Epoch [1/9], Loss: 0.0126\n"
     ]
    },
    {
     "output_type": "stream",
     "name": "stderr",
     "text": [
      "100%|██████████| 600/600 [00:14<00:00, 42.19it/s]\n"
     ]
    },
    {
     "output_type": "stream",
     "name": "stdout",
     "text": [
      "Validation Loss: 0.01\n",
      "Epoch [2/9], Loss: 0.0115\n"
     ]
    },
    {
     "output_type": "stream",
     "name": "stderr",
     "text": [
      "100%|██████████| 600/600 [00:13<00:00, 43.05it/s]\n"
     ]
    },
    {
     "output_type": "stream",
     "name": "stdout",
     "text": [
      "Validation Loss: 0.01\n",
      "Epoch [3/9], Loss: 0.0109\n"
     ]
    },
    {
     "output_type": "stream",
     "name": "stderr",
     "text": [
      "100%|██████████| 600/600 [00:13<00:00, 42.90it/s]\n"
     ]
    },
    {
     "output_type": "stream",
     "name": "stdout",
     "text": [
      "Validation Loss: 0.01\n",
      "Epoch [4/9], Loss: 0.0105\n"
     ]
    },
    {
     "output_type": "stream",
     "name": "stderr",
     "text": [
      "100%|██████████| 600/600 [00:14<00:00, 41.77it/s]\n"
     ]
    },
    {
     "output_type": "stream",
     "name": "stdout",
     "text": [
      "Validation Loss: 0.01\n",
      "Epoch [5/9], Loss: 0.0102\n"
     ]
    },
    {
     "output_type": "stream",
     "name": "stderr",
     "text": [
      "100%|██████████| 600/600 [00:13<00:00, 42.97it/s]\n"
     ]
    },
    {
     "output_type": "stream",
     "name": "stdout",
     "text": [
      "Validation Loss: 0.01\n",
      "Epoch [6/9], Loss: 0.0100\n"
     ]
    },
    {
     "output_type": "stream",
     "name": "stderr",
     "text": [
      "100%|██████████| 600/600 [00:14<00:00, 40.17it/s]\n"
     ]
    },
    {
     "output_type": "stream",
     "name": "stdout",
     "text": [
      "Validation Loss: 0.01\n",
      "Epoch [7/9], Loss: 0.0098\n"
     ]
    },
    {
     "output_type": "stream",
     "name": "stderr",
     "text": [
      "100%|██████████| 600/600 [00:13<00:00, 43.17it/s]\n"
     ]
    },
    {
     "output_type": "stream",
     "name": "stdout",
     "text": [
      "Validation Loss: 0.01\n",
      "Epoch [8/9], Loss: 0.0096\n"
     ]
    },
    {
     "output_type": "stream",
     "name": "stderr",
     "text": [
      "100%|██████████| 600/600 [00:13<00:00, 42.94it/s]\n"
     ]
    },
    {
     "output_type": "stream",
     "name": "stdout",
     "text": [
      "Validation Loss: 0.01\n",
      "Epoch [9/9], Loss: 0.0094\n"
     ]
    }
   ]
  },
  {
   "cell_type": "code",
   "source": [
    "import matplotlib.pyplot as plt\n",
    "\n",
    "plt.plot(model.epoch_tab, model.loss_tab)\n",
    "plt.xlabel(\"No. of Iteration\")\n",
    "plt.ylabel(\"Loss\")\n",
    "plt.title(\"Iterations vs Loss\")\n",
    "plt.show()"
   ],
   "metadata": {
    "colab": {
     "base_uri": "https://localhost:8080/",
     "height": 472
    },
    "id": "cfdSZKzSzYdE",
    "executionInfo": {
     "status": "ok",
     "timestamp": 1728838827425,
     "user_tz": -120,
     "elapsed": 367,
     "user": {
      "displayName": "Zofia Jankowska",
      "userId": "04887293830375276739"
     }
    },
    "outputId": "61c0fdbb-956f-4b0b-ac29-758a7504af18"
   },
   "execution_count": null,
   "outputs": [
    {
     "output_type": "display_data",
     "data": {
      "text/plain": [
       "<Figure size 640x480 with 1 Axes>"
      ],
      "image/png": "[encoded data removed]"
     },
     "metadata": {}
    }
   ]
  },
  {
   "cell_type": "code",
   "source": [],
   "metadata": {
    "id": "c7CCEySVzWP2"
   },
   "execution_count": null,
   "outputs": []
  }
 ]
}